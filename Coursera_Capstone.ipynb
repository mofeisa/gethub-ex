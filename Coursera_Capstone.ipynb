https://dataplatform.cloud.ibm.com/analytics/notebooks/v2/51d8992b-a721-45d4-a1bb-d8e284fd41de/view?access_token=95a8d62c2057a4fe50f8bdbcdf788668002323ac26d3239a3c029e7d9c6ed851
